{
 "cells": [
  {
   "cell_type": "code",
   "execution_count": 1,
   "id": "c5bbf530-3f05-434c-a70f-ac2cc4b8f7aa",
   "metadata": {
    "height": 47,
    "tags": []
   },
   "outputs": [],
   "source": [
    "from helper import get_openai_api_key\n",
    "OPENAI_API_KEY = get_openai_api_key()"
   ]
  },
  {
   "cell_type": "code",
   "execution_count": 2,
   "id": "d4c06c95-e8b2-4574-b14d-685876aa1c47",
   "metadata": {
    "height": 47,
    "tags": []
   },
   "outputs": [],
   "source": [
    "import nest_asyncio\n",
    "nest_asyncio.apply()"
   ]
  },
  {
   "cell_type": "code",
   "execution_count": null,
   "metadata": {},
   "outputs": [],
   "source": [
    "#Define Children Calculator"
   ]
  },
  {
   "cell_type": "code",
   "execution_count": 3,
   "id": "071b717a-93cc-4332-b357-59a693359563",
   "metadata": {
    "height": 302,
    "tags": []
   },
   "outputs": [],
   "source": [
    "#we use add function and mystery function as a functions\n",
    "#define children calculator\n",
    "\n",
    "from llama_index.core.tools import FunctionTool\n",
    "\n",
    "def add(x: int, y: int) -> int:\n",
    "    \"\"\"Adds two integers together.\"\"\"\n",
    "    return x + y\n",
    "\n",
    "def mystery(x: int, y: int) -> int: \n",
    "    \"\"\"Mystery function that operates on top of two numbers.\"\"\"\n",
    "    return (x + y) * (x + y)\n",
    "\n",
    "\n",
    "add_tool = FunctionTool.from_defaults(fn=add) #calling to add function\n",
    "mystery_tool = FunctionTool.from_defaults(fn=mystery) #calling to mystery function"
   ]
  },
  {
   "cell_type": "code",
   "execution_count": 4,
   "id": "d4e62118-992b-4629-9022-be8c628209c1",
   "metadata": {
    "height": 183,
    "tags": []
   },
   "outputs": [
    {
     "name": "stdout",
     "output_type": "stream",
     "text": [
      "=== Calling Function ===\n",
      "Calling function: mystery with args: {\"x\": 2, \"y\": 9}\n",
      "=== Function Output ===\n",
      "121\n",
      "121\n"
     ]
    }
   ],
   "source": [
    "from llama_index.llms.openai import OpenAI\n",
    "\n",
    "llm = OpenAI(model=\"gpt-3.5-turbo\")\n",
    "response = llm.predict_and_call(\n",
    "    [add_tool, mystery_tool], \n",
    "    \"Tell me the output of the mystery function on 2 and 9\", #only mension mystery function\n",
    "    verbose=True\n",
    ")\n",
    "print(str(response))"
   ]
  },
  {
   "cell_type": "code",
   "execution_count": null,
   "metadata": {},
   "outputs": [],
   "source": [
    "#Define an Auto-Retrieval Tool"
   ]
  },
  {
   "cell_type": "code",
   "execution_count": 5,
   "id": "4fcf1abc",
   "metadata": {
    "height": 115
   },
   "outputs": [],
   "source": [
    "#Load the data\n",
    "from llama_index.core import SimpleDirectoryReader\n",
    "\n",
    "#Load the document\n",
    "documents = SimpleDirectoryReader(input_files=[\"Design of a cooling system for a hybrid-powered vehicle.pdf\"]).load_data()"
   ]
  },
  {
   "cell_type": "code",
   "execution_count": 6,
   "id": "0f68b82e",
   "metadata": {
    "height": 81
   },
   "outputs": [],
   "source": [
    "#split the documents to chunks\n",
    "from llama_index.core.node_parser import SentenceSplitter\n",
    "splitter = SentenceSplitter(chunk_size=1024)\n",
    "nodes = splitter.get_nodes_from_documents(documents)"
   ]
  },
  {
   "cell_type": "code",
   "execution_count": 9,
   "id": "e0fe0a9c-1f87-4ae7-a79e-7c3cf9c395ed",
   "metadata": {
    "height": 217,
    "tags": []
   },
   "outputs": [
    {
     "name": "stdout",
     "output_type": "stream",
     "text": [
      "page_label: 1\n",
      "file_name: Design of a cooling system for a hybrid-powered vehicle.pdf\n",
      "file_path: Design of a cooling system for a hybrid-powered vehicle.pdf\n",
      "file_type: application/pdf\n",
      "file_size: 701257\n",
      "creation_date: 2024-10-20\n",
      "last_modified_date: 2024-10-20\n",
      "\n",
      "Al-Mustaqbal Journal of Sustainability in Engineering Sciences Al-Mustaqbal Journal of Sustainability in Engineering Sciences \n",
      "Volume 1 Issue 2 Article 5 \n",
      "2023 \n",
      "Design of a cooling system for a hybrid-power ed vehicle Design of a cooling system for a hybrid-power ed vehicle \n",
      "Qusa y Rasheed Al- Amir \n",
      "Air Conditioning and Refriger ation T echniques Engineering Depar tment, Al-Mustaqbal Univ ersity , Iraq, \n",
      "dr.qusa yrasheed24@mustaqbal-college.edu.iq \n",
      "Follow this and additional works at: https:/ /ajses.uomus.edu.iq/home \n",
      "Recommended Citation Recommended Citation \n",
      "Amir , Qusa y Rasheed Al- (2023) \"Design of a cooling system for a hybrid-power ed vehicle, \" Al-Mustaqbal \n",
      "Journal of Sustainability in Engineering Sciences : Vol. 1 : Iss. 2 , Ar ticle 5. \n",
      "Available at: https:/ /doi.or g/10.62723/2959-5932.1004 \n",
      "This Original Study is br ought t o you for fr ee and open access b y Al-Mustaqbal Journal of Sustainability in \n",
      "Engineering Sciences. It has been accepted for inclusion in Al-Mustaqbal Journal of Sustainability in Engineering \n",
      "Sciences b y an authoriz ed edit or of Al-Mustaqbal Journal of Sustainability in Engineering Sciences.\n"
     ]
    },
    {
     "data": {
      "text/plain": [
       "'\\nmetadata--> page_label: 1\\n    file_name: Design of a cooling system for a hybrid-powered vehicle.pdf\\n    file_path: Design of a cooling system for a hybrid-powered vehicle.pdf\\n    file_type: application/pdf\\n    file_size: 701257\\n    creation_date: 2024-10-20\\n    last_modified_date: 2024-10-20\\n'"
      ]
     },
     "execution_count": 9,
     "metadata": {},
     "output_type": "execute_result"
    }
   ],
   "source": [
    "print(nodes[0].get_content(metadata_mode=\"all\")) #nodes[0] mean labeled page data(1st page)\n",
    "\n",
    "\"\"\"\n",
    "metadata--> page_label: 1\n",
    "    file_name: Design of a cooling system for a hybrid-powered vehicle.pdf\n",
    "    file_path: Design of a cooling system for a hybrid-powered vehicle.pdf\n",
    "    file_type: application/pdf\n",
    "    file_size: 701257\n",
    "    creation_date: 2024-10-20\n",
    "    last_modified_date: 2024-10-20\n",
    "\"\"\""
   ]
  },
  {
   "cell_type": "code",
   "execution_count": 10,
   "id": "d7965cba-67b8-4cca-8e5f-2b0dbc96f6b0",
   "metadata": {
    "height": 98,
    "tags": []
   },
   "outputs": [],
   "source": [
    "from llama_index.core import VectorStoreIndex #this will basically build a RAG indexing pipeline over these nodes. and it will add an embedding for each node and it will get back a query engine.\n",
    "\n",
    "vector_index = VectorStoreIndex(nodes)\n",
    "query_engine = vector_index.as_query_engine(similarity_top_k=2)"
   ]
  },
  {
   "cell_type": "code",
   "execution_count": 11,
   "id": "560f319c-8479-40c5-9b55-480fef98deb7",
   "metadata": {
    "height": 302,
    "tags": []
   },
   "outputs": [],
   "source": [
    "#METADATA Filtering\n",
    "\n",
    "from llama_index.core.vector_stores import MetadataFilters #we can retrive data using filtering metada\n",
    "\n",
    "query_engine = vector_index.as_query_engine(\n",
    "    similarity_top_k=2,\n",
    "    filters=MetadataFilters.from_dicts(\n",
    "        [\n",
    "            {\"key\": \"page_label\", \"value\": \"2\"} #filtering data using page label\n",
    "        ]\n",
    "    )\n",
    ")\n",
    "\n",
    "response = query_engine.query(\n",
    "    \"How to design a cooling system ?\", \n",
    ")"
   ]
  },
  {
   "cell_type": "code",
   "execution_count": 12,
   "id": "2da4042f-8fdb-4959-8760-86685c903cfd",
   "metadata": {
    "height": 30,
    "tags": []
   },
   "outputs": [
    {
     "name": "stdout",
     "output_type": "stream",
     "text": [
      "To design a cooling system for a hybrid-powered vehicle, one can utilize a combination of kinetic energy from exhaust gas recycling and solar energy from a photovoltaic system. The kinetic energy generated from waste exhaust gases can be converted into electrical energy by passing it through a turbine connected to a dynamo when the vehicle is in motion. Additionally, when the vehicle is stationary, solar energy can be harnessed by connecting photovoltaic cells to the battery, storing and converting it into electrical energy to operate the compressor. This hybrid cooling system reduces engine load and fuel consumption, thereby increasing engine efficiency. By implementing these methods, the cooling system can operate efficiently both during vehicle operation and when the engine is off, leading to improved overall performance and reduced energy waste.\n"
     ]
    }
   ],
   "source": [
    "print(str(response))"
   ]
  },
  {
   "cell_type": "code",
   "execution_count": 13,
   "id": "30bb264c-42e0-46f8-9d28-da11a8535960",
   "metadata": {
    "height": 115,
    "tags": []
   },
   "outputs": [
    {
     "name": "stdout",
     "output_type": "stream",
     "text": [
      "{'page_label': '2', 'file_name': 'Design of a cooling system for a hybrid-powered vehicle.pdf', 'file_path': 'Design of a cooling system for a hybrid-powered vehicle.pdf', 'file_type': 'application/pdf', 'file_size': 701257, 'creation_date': '2024-10-20', 'last_modified_date': '2024-10-20'}\n"
     ]
    }
   ],
   "source": [
    "#print out the metadata attached to these source nodes.we can get it for create ai plegarism ditector tool\n",
    "for n in response.source_nodes:\n",
    "    print(n.metadata)\n",
    "    \n",
    "    #this response mean page label 2 has this informations"
   ]
  },
  {
   "cell_type": "code",
   "execution_count": null,
   "metadata": {},
   "outputs": [],
   "source": [
    "#Define Auto Retrival Tool"
   ]
  },
  {
   "cell_type": "code",
   "execution_count": 14,
   "id": "2639e79b-f615-425b-85ea-8a279bb26dd0",
   "metadata": {
    "height": 625,
    "tags": []
   },
   "outputs": [],
   "source": [
    "from typing import List\n",
    "from llama_index.core.vector_stores import FilterCondition\n",
    "\n",
    "\n",
    "def vector_query(\n",
    "    query: str, \n",
    "    page_numbers: List[str]\n",
    ") -> str:\n",
    "    \"\"\"Perform a vector search over an index.\n",
    "    \n",
    "    query (str): the string query to be embedded.\n",
    "    page_numbers (List[str]): Filter by set of pages. Leave BLANK if we want to perform a vector search\n",
    "        over all pages. Otherwise, filter by the set of specified pages.\n",
    "    \n",
    "    \"\"\"\n",
    "\n",
    "    metadata_dicts = [\n",
    "        {\"key\": \"page_label\", \"value\": p} for p in page_numbers\n",
    "    ]\n",
    "    \n",
    "    query_engine = vector_index.as_query_engine(\n",
    "        similarity_top_k=2,\n",
    "        filters=MetadataFilters.from_dicts(\n",
    "            metadata_dicts,\n",
    "            condition=FilterCondition.OR\n",
    "        )\n",
    "    )\n",
    "    response = query_engine.query(query)\n",
    "    return response\n",
    "    \n",
    "\n",
    "vector_query_tool = FunctionTool.from_defaults(\n",
    "    name=\"vector_tool\",\n",
    "    fn=vector_query\n",
    ")"
   ]
  },
  {
   "cell_type": "code",
   "execution_count": 15,
   "id": "2a408ace-cf25-425b-8248-7028ceabcd42",
   "metadata": {
    "height": 132,
    "tags": []
   },
   "outputs": [
    {
     "name": "stdout",
     "output_type": "stream",
     "text": [
      "=== Calling Function ===\n",
      "Calling function: vector_tool with args: {\"query\": \"design a cooling system\", \"page_numbers\": [\"2\"]}\n",
      "=== Function Output ===\n",
      "The cooling system designed for the hybrid-powered vehicle utilizes a combination of kinetic energy from exhaust gas recycling and solar energy from a photovoltaic system. This hybrid energy is converted into electrical energy to power the electric compressor of the refrigeration system. When the vehicle is in motion, the kinetic energy from waste exhaust gases is converted into electrical energy through a turbine connected to a dynamo. Conversely, when the vehicle is stationary, solar energy is used to operate the cooling system by connecting photovoltaic cells to the battery. This innovative design significantly reduces engine load and fuel consumption, leading to increased engine efficiency. The study demonstrated that the cooling system can operate both during vehicle operation and when the engine is off, resulting in improved engine efficiency and a 5.18% increase in the coefficient of performance compared to conventional cooling systems.\n"
     ]
    }
   ],
   "source": [
    "llm = OpenAI(model=\"gpt-3.5-turbo\", temperature=0)\n",
    "response = llm.predict_and_call(\n",
    "    [vector_query_tool], \n",
    "    \"How to design a cooling system as described on page 2?\", #filterd by page number\n",
    "    verbose=True\n",
    ")"
   ]
  },
  {
   "cell_type": "code",
   "execution_count": 16,
   "id": "6ec05565-6adf-4294-ba5c-b384220876ac",
   "metadata": {
    "height": 47,
    "tags": []
   },
   "outputs": [
    {
     "name": "stdout",
     "output_type": "stream",
     "text": [
      "{'page_label': '2', 'file_name': 'Design of a cooling system for a hybrid-powered vehicle.pdf', 'file_path': 'Design of a cooling system for a hybrid-powered vehicle.pdf', 'file_type': 'application/pdf', 'file_size': 701257, 'creation_date': '2024-10-20', 'last_modified_date': '2024-10-20'}\n"
     ]
    }
   ],
   "source": [
    "for n in response.source_nodes:\n",
    "    print(n.metadata)"
   ]
  },
  {
   "cell_type": "code",
   "execution_count": null,
   "metadata": {},
   "outputs": [],
   "source": [
    "#Adding Summary index and Query Engine Tool"
   ]
  },
  {
   "cell_type": "code",
   "execution_count": 18,
   "id": "55dd32e5-e29f-42ed-839a-ca937fe4743e",
   "metadata": {
    "height": 302,
    "tags": []
   },
   "outputs": [],
   "source": [
    "#add 1st code indexes summery index and query enginetool\n",
    "\n",
    "from llama_index.core import SummaryIndex\n",
    "from llama_index.core.tools import QueryEngineTool\n",
    "\n",
    "summary_index = SummaryIndex(nodes)\n",
    "summary_query_engine = summary_index.as_query_engine(\n",
    "    response_mode=\"tree_summarize\",\n",
    "    use_async=True,\n",
    ")\n",
    "summary_tool = QueryEngineTool.from_defaults(\n",
    "    name=\"summary_tool\",\n",
    "    query_engine=summary_query_engine,\n",
    "    description=(\n",
    "        \"Useful if you want to get a summary of pdf\"\n",
    "    ),\n",
    ")"
   ]
  },
  {
   "cell_type": "code",
   "execution_count": 19,
   "id": "4228ca7c-42a0-494b-987b-5a1c5c584536",
   "metadata": {
    "height": 115,
    "tags": []
   },
   "outputs": [
    {
     "name": "stdout",
     "output_type": "stream",
     "text": [
      "=== Calling Function ===\n",
      "Calling function: summary_tool with args: {\"input\": \"data reduction\", \"page_numbers\": [\"32\"]}\n",
      "=== Function Output ===\n",
      "Data reduction techniques are essential for managing and analyzing large datasets efficiently. These methods help simplify complex datasets, remove redundant information, and extract key features for further analysis. By applying data reduction techniques, researchers can improve computational efficiency, reduce storage requirements, and enhance the overall performance of data processing tasks.\n"
     ]
    }
   ],
   "source": [
    "response = llm.predict_and_call(\n",
    "    [vector_query_tool, summary_tool], \n",
    "    \"Give me summary of data reduction described on page 32?\", \n",
    "    verbose=True\n",
    ")"
   ]
  },
  {
   "cell_type": "code",
   "execution_count": 20,
   "id": "4aa3e8c1-a8c3-4c92-a0e4-5c081f91d966",
   "metadata": {
    "height": 47,
    "tags": []
   },
   "outputs": [
    {
     "name": "stdout",
     "output_type": "stream",
     "text": [
      "{'page_label': '1', 'file_name': 'Design of a cooling system for a hybrid-powered vehicle.pdf', 'file_path': 'Design of a cooling system for a hybrid-powered vehicle.pdf', 'file_type': 'application/pdf', 'file_size': 701257, 'creation_date': '2024-10-20', 'last_modified_date': '2024-10-20'}\n",
      "{'page_label': '2', 'file_name': 'Design of a cooling system for a hybrid-powered vehicle.pdf', 'file_path': 'Design of a cooling system for a hybrid-powered vehicle.pdf', 'file_type': 'application/pdf', 'file_size': 701257, 'creation_date': '2024-10-20', 'last_modified_date': '2024-10-20'}\n",
      "{'page_label': '3', 'file_name': 'Design of a cooling system for a hybrid-powered vehicle.pdf', 'file_path': 'Design of a cooling system for a hybrid-powered vehicle.pdf', 'file_type': 'application/pdf', 'file_size': 701257, 'creation_date': '2024-10-20', 'last_modified_date': '2024-10-20'}\n",
      "{'page_label': '3', 'file_name': 'Design of a cooling system for a hybrid-powered vehicle.pdf', 'file_path': 'Design of a cooling system for a hybrid-powered vehicle.pdf', 'file_type': 'application/pdf', 'file_size': 701257, 'creation_date': '2024-10-20', 'last_modified_date': '2024-10-20'}\n",
      "{'page_label': '4', 'file_name': 'Design of a cooling system for a hybrid-powered vehicle.pdf', 'file_path': 'Design of a cooling system for a hybrid-powered vehicle.pdf', 'file_type': 'application/pdf', 'file_size': 701257, 'creation_date': '2024-10-20', 'last_modified_date': '2024-10-20'}\n",
      "{'page_label': '5', 'file_name': 'Design of a cooling system for a hybrid-powered vehicle.pdf', 'file_path': 'Design of a cooling system for a hybrid-powered vehicle.pdf', 'file_type': 'application/pdf', 'file_size': 701257, 'creation_date': '2024-10-20', 'last_modified_date': '2024-10-20'}\n",
      "{'page_label': '6', 'file_name': 'Design of a cooling system for a hybrid-powered vehicle.pdf', 'file_path': 'Design of a cooling system for a hybrid-powered vehicle.pdf', 'file_type': 'application/pdf', 'file_size': 701257, 'creation_date': '2024-10-20', 'last_modified_date': '2024-10-20'}\n",
      "{'page_label': '6', 'file_name': 'Design of a cooling system for a hybrid-powered vehicle.pdf', 'file_path': 'Design of a cooling system for a hybrid-powered vehicle.pdf', 'file_type': 'application/pdf', 'file_size': 701257, 'creation_date': '2024-10-20', 'last_modified_date': '2024-10-20'}\n",
      "{'page_label': '7', 'file_name': 'Design of a cooling system for a hybrid-powered vehicle.pdf', 'file_path': 'Design of a cooling system for a hybrid-powered vehicle.pdf', 'file_type': 'application/pdf', 'file_size': 701257, 'creation_date': '2024-10-20', 'last_modified_date': '2024-10-20'}\n",
      "{'page_label': '8', 'file_name': 'Design of a cooling system for a hybrid-powered vehicle.pdf', 'file_path': 'Design of a cooling system for a hybrid-powered vehicle.pdf', 'file_type': 'application/pdf', 'file_size': 701257, 'creation_date': '2024-10-20', 'last_modified_date': '2024-10-20'}\n",
      "{'page_label': '9', 'file_name': 'Design of a cooling system for a hybrid-powered vehicle.pdf', 'file_path': 'Design of a cooling system for a hybrid-powered vehicle.pdf', 'file_type': 'application/pdf', 'file_size': 701257, 'creation_date': '2024-10-20', 'last_modified_date': '2024-10-20'}\n"
     ]
    }
   ],
   "source": [
    "for n in response.source_nodes:\n",
    "    print(n.metadata)"
   ]
  },
  {
   "cell_type": "code",
   "execution_count": 21,
   "id": "21906d47-7266-4479-bbb4-9f392d5c399b",
   "metadata": {
    "height": 98,
    "tags": []
   },
   "outputs": [
    {
     "name": "stdout",
     "output_type": "stream",
     "text": [
      "=== Calling Function ===\n",
      "Calling function: summary_tool with args: {\"input\": \"paper\"}\n",
      "=== Function Output ===\n",
      "The paper discusses the design and implementation of a cooling system for a hybrid-powered vehicle that utilizes a combination of kinetic energy from exhaust gas recycling and solar energy to power the electric compressor of the refrigeration system. It focuses on improving engine efficiency, reducing fuel consumption, and increasing the coefficient of performance compared to conventional cooling systems. Additionally, the paper explores various refrigeration cycles suitable for vehicle cooling applications, emphasizing the importance of clean energy sources and waste heat recovery for environmental preservation and energy efficiency.\n"
     ]
    }
   ],
   "source": [
    "#calling to function\n",
    "response = llm.predict_and_call(\n",
    "    [vector_query_tool, summary_tool], \n",
    "    \"What is a summary of the paper?\", \n",
    "    verbose=True\n",
    ")"
   ]
  }
 ],
 "metadata": {
  "kernelspec": {
   "display_name": "Python 3 (ipykernel)",
   "language": "python",
   "name": "python3"
  },
  "language_info": {
   "codemirror_mode": {
    "name": "ipython",
    "version": 3
   },
   "file_extension": ".py",
   "mimetype": "text/x-python",
   "name": "python",
   "nbconvert_exporter": "python",
   "pygments_lexer": "ipython3",
   "version": "3.11.9"
  }
 },
 "nbformat": 4,
 "nbformat_minor": 5
}
